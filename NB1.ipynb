{
    "cells": [
        {
            "cell_type": "markdown",
            "metadata": {
                "collapsed": true
            },
            "source": "# My Jupyter Notebook on IBM Watson Studio"
        },
        {
            "cell_type": "markdown",
            "metadata": {},
            "source": "**Annika Leiseth**"
        },
        {
            "cell_type": "markdown",
            "metadata": {},
            "source": "<img src = \"https://comptiacdn.azureedge.net/webcontent/images/default-source/researchreports/data-analytics-vs.-data-science/data-analytics-vs-data-science.png?sfvrsn=28434515_0\">"
        },
        {
            "cell_type": "markdown",
            "metadata": {},
            "source": "Current student, someday data scientist"
        },
        {
            "cell_type": "markdown",
            "metadata": {},
            "source": "* I am interested in data science because I believe that through analysis, many issues can be solved. I have always been obsessed with efficiency and optimization in general. Now that our society can store large amounts of data, we have a greater ability than ever before to empirically evaluate cause and effect, and make improvements for the greater good. My innate curiosity and calculative nature makes me well suited for this profession and I am excited to see what insights other data scientists and I uncover. *"
        },
        {
            "cell_type": "markdown",
            "metadata": {},
            "source": "### Data Science Career Outlook"
        },
        {
            "cell_type": "markdown",
            "metadata": {},
            "source": "- 36% growth projected from 2021 - 2031\n- expected 13,500 job openings each year"
        },
        {
            "cell_type": "code",
            "execution_count": 10,
            "metadata": {
                "scrolled": false
            },
            "outputs": [
                {
                    "name": "stdout",
                    "output_type": "stream",
                    "text": "Total number of new data science jobs: \n135000\nCurrent Number of Data Scientists: \n267000.0\nFuture Number of Data Scientists: \n375000.0\n"
                }
            ],
            "source": "jobOpenings = 13500\ntotalNoOfYears = 10\ncurrentYears = 2\ntotalNewJobs = jobOpenings*totalNoOfYears\nprint(\"Total number of new data science jobs: \")\nprint(totalNewJobs)\npercentGrowth = 36\nfutureNoOfDataScientists = (totalNewJobs*100)/percentGrowth\ncurrentNoOfDataScientists = futureNoOfDataScientists - (totalNoOfYears - currentYears)*(jobOpenings)\nprint(\"Current Number of Data Scientists: \")\nprint(currentNoOfDataScientists)\nprint(\"Future Number of Data Scientists: \")\nprint(futureNoOfDataScientists)\n"
        },
        {
            "cell_type": "markdown",
            "metadata": {},
            "source": "#### Data Scienctist Job Projection Source"
        },
        {
            "cell_type": "markdown",
            "metadata": {},
            "source": "<https://www.bls.gov/ooh/math/data-scientists.htm#:~:text=in%20May%202021.-,Job%20Outlook,on%20average%2C%20over%20the%20decade.>"
        }
    ],
    "metadata": {
        "kernelspec": {
            "display_name": "Python 3.10",
            "language": "python",
            "name": "python3"
        },
        "language_info": {
            "codemirror_mode": {
                "name": "ipython",
                "version": 3
            },
            "file_extension": ".py",
            "mimetype": "text/x-python",
            "name": "python",
            "nbconvert_exporter": "python",
            "pygments_lexer": "ipython3",
            "version": "3.10.9"
        }
    },
    "nbformat": 4,
    "nbformat_minor": 1
}